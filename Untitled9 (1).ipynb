{
 "cells": [
  {
   "cell_type": "code",
   "execution_count": 2,
   "metadata": {},
   "outputs": [
    {
     "ename": "FileNotFoundError",
     "evalue": "[Errno 2] No such file or directory: 'Dates.txt'",
     "output_type": "error",
     "traceback": [
      "\u001b[1;31m---------------------------------------------------------------------------\u001b[0m",
      "\u001b[1;31mFileNotFoundError\u001b[0m                         Traceback (most recent call last)",
      "\u001b[1;32m<ipython-input-2-ef46688690ea>\u001b[0m in \u001b[0;36m<module>\u001b[1;34m\u001b[0m\n\u001b[1;32m----> 1\u001b[1;33m \u001b[0mf\u001b[0m\u001b[1;33m=\u001b[0m\u001b[0mopen\u001b[0m\u001b[1;33m(\u001b[0m\u001b[1;34m\"Dates.txt\"\u001b[0m\u001b[1;33m,\u001b[0m\u001b[1;34m\"r\"\u001b[0m\u001b[1;33m)\u001b[0m\u001b[1;33m\u001b[0m\u001b[1;33m\u001b[0m\u001b[0m\n\u001b[0m\u001b[0;32m      2\u001b[0m \u001b[0mprint\u001b[0m\u001b[1;33m(\u001b[0m\u001b[0mf\u001b[0m\u001b[1;33m.\u001b[0m\u001b[0mread\u001b[0m\u001b[1;33m(\u001b[0m\u001b[1;33m)\u001b[0m\u001b[1;33m)\u001b[0m\u001b[1;33m\u001b[0m\u001b[1;33m\u001b[0m\u001b[0m\n",
      "\u001b[1;31mFileNotFoundError\u001b[0m: [Errno 2] No such file or directory: 'Dates.txt'"
     ]
    }
   ],
   "source": [
    "f=open(\"Dates.txt\",\"r\")\n",
    "print(f.read())"
   ]
  },
  {
   "cell_type": "code",
   "execution_count": 31,
   "metadata": {},
   "outputs": [
    {
     "name": "stdout",
     "output_type": "stream",
     "text": [
      "11-6-2021, Enans Birthday\n",
      "\n",
      "['11-6-2021', ' Enans Birthday\\n']\n",
      "['11', '6', '2021']\n",
      "Today's date: 2020-12-16\n",
      "['2020', '12', '16']\n",
      "[2020, 12, 16]\n",
      "177 until  Enans Birthday\n",
      "\n",
      "1-1-2021, New Years Day\n",
      "\n",
      "['1-1-2021', ' New Years Day\\n']\n",
      "['1', '1', '2021']\n",
      "Today's date: 2020-12-16\n",
      "['2020', '12', '16']\n",
      "[2020, 12, 16]\n",
      "16 until  New Years Day\n",
      "\n",
      "25-12-2021, Christmas Day\n",
      "\n",
      "['25-12-2021', ' Christmas Day\\n']\n",
      "['25', '12', '2021']\n",
      "Today's date: 2020-12-16\n",
      "['2020', '12', '16']\n",
      "[2020, 12, 16]\n",
      "374 until  Christmas Day\n",
      "\n",
      "11-10-2021, Thanksgiving Day\n",
      "\n",
      "['11-10-2021', ' Thanksgiving Day\\n']\n",
      "['11', '10', '2021']\n",
      "Today's date: 2020-12-16\n",
      "['2020', '12', '16']\n",
      "[2020, 12, 16]\n",
      "299 until  Thanksgiving Day\n",
      "\n",
      "11-11-2021, Remeberence Day\n",
      "\n",
      "['11-11-2021', ' Remeberence Day\\n']\n",
      "['11', '11', '2021']\n",
      "Today's date: 2020-12-16\n",
      "['2020', '12', '16']\n",
      "[2020, 12, 16]\n",
      "330 until  Remeberence Day\n",
      "\n",
      "15-2-2021, Family Day\n",
      "\n",
      "['15-2-2021', ' Family Day\\n']\n",
      "['15', '2', '2021']\n",
      "Today's date: 2020-12-16\n",
      "['2020', '12', '16']\n",
      "[2020, 12, 16]\n",
      "61 until  Family Day\n",
      "\n",
      "1-1-2020, New Years Day\n",
      "['1-1-2020', ' New Years Day']\n",
      "['1', '1', '2020']\n",
      "Today's date: 2020-12-16\n",
      "['2020', '12', '16']\n",
      "[2020, 12, 16]\n",
      "that date already happend\n"
     ]
    }
   ],
   "source": [
    "f=open(\"Documents\\Dates.txt\",\"r\")\n",
    "#print(f.read())\n",
    "from datetime import date\n",
    "for i in f:\n",
    "    print(i)\n",
    "    lst2=i.split(\",\")\n",
    "    print(lst2)\n",
    "   \n",
    "    certain_date=lst2[0].split(\"-\")\n",
    "    print(certain_date)\n",
    "    today = date.today()\n",
    "    print(\"Today's date:\", today)\n",
    "    lst=str(today).split(\"-\")\n",
    "    print(lst)\n",
    "    lst1=[]\n",
    "    for i in lst:\n",
    "        lst1.append(int(i))\n",
    "    print(lst1)\n",
    "    d0 = date(lst1[0],lst1[1],lst1[2])\n",
    "    d1 = date(int(certain_date[2]), int(certain_date[1]), int(certain_date[0]))\n",
    "    delta = d1 - d0\n",
    "    if delta.days>0:\n",
    "        print(f\"{delta.days} until {lst2[1]}\")\n",
    "    else:\n",
    "        print(\"that date already happend\")\n",
    " \n",
    "    "
   ]
  },
  {
   "cell_type": "code",
   "execution_count": 20,
   "metadata": {},
   "outputs": [
    {
     "name": "stdout",
     "output_type": "stream",
     "text": [
      "Today's date: 2020-12-16\n",
      "['2020', '12', '16']\n",
      "[2020, 12, 16]\n"
     ]
    }
   ],
   "source": [
    "from datetime import date\n",
    "\n",
    "today = date.today()\n",
    "print(\"Today's date:\", today)\n",
    "lst=str(today).split(\"-\")\n",
    "print(lst)\n",
    "lst1=[]\n",
    "for i in lst:\n",
    "    lst1.append(int(i))\n",
    "print(lst1)"
   ]
  },
  {
   "cell_type": "code",
   "execution_count": 21,
   "metadata": {},
   "outputs": [
    {
     "name": "stdout",
     "output_type": "stream",
     "text": [
      "10\n"
     ]
    }
   ],
   "source": [
    "d0 = date(lst1[0],lst1[1],lst1[2])\n",
    "d1 = date(2020, 12, 26)\n",
    "delta = d1 - d0\n",
    "print(delta.days)"
   ]
  },
  {
   "cell_type": "code",
   "execution_count": null,
   "metadata": {},
   "outputs": [],
   "source": []
  }
 ],
 "metadata": {
  "kernelspec": {
   "display_name": "Python 3",
   "language": "python",
   "name": "python3"
  },
  "language_info": {
   "codemirror_mode": {
    "name": "ipython",
    "version": 3
   },
   "file_extension": ".py",
   "mimetype": "text/x-python",
   "name": "python",
   "nbconvert_exporter": "python",
   "pygments_lexer": "ipython3",
   "version": "3.8.3"
  }
 },
 "nbformat": 4,
 "nbformat_minor": 4
}
